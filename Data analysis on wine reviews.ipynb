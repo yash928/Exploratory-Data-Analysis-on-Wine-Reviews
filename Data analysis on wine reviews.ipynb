{
 "cells": [
  {
   "cell_type": "markdown",
   "id": "2f5b9147",
   "metadata": {},
   "source": [
    "# Exploratory Data Analysis on Wine Reviews "
   ]
  },
  {
   "cell_type": "code",
   "execution_count": 1,
   "id": "554c8357",
   "metadata": {},
   "outputs": [],
   "source": [
    "import pandas as pd\n",
    "import numpy as np\n",
    "import matplotlib.pyplot as plt\n",
    "import seaborn as sns\n",
    "sns.set()"
   ]
  },
  {
   "cell_type": "markdown",
   "id": "96b30e75",
   "metadata": {},
   "source": [
    "Exploring the data                            \n",
    "the data has been taken from: https://drive.google.com/file/d/1fakbbdmqXLY8cyQdbd2kbHDQaN_XzCQb/view?usp=sharing"
   ]
  },
  {
   "cell_type": "code",
   "execution_count": 2,
   "id": "3fd9a6ba",
   "metadata": {},
   "outputs": [
    {
     "data": {
      "text/html": [
       "<div>\n",
       "<style scoped>\n",
       "    .dataframe tbody tr th:only-of-type {\n",
       "        vertical-align: middle;\n",
       "    }\n",
       "\n",
       "    .dataframe tbody tr th {\n",
       "        vertical-align: top;\n",
       "    }\n",
       "\n",
       "    .dataframe thead th {\n",
       "        text-align: right;\n",
       "    }\n",
       "</style>\n",
       "<table border=\"1\" class=\"dataframe\">\n",
       "  <thead>\n",
       "    <tr style=\"text-align: right;\">\n",
       "      <th></th>\n",
       "      <th>Unnamed: 0</th>\n",
       "      <th>country</th>\n",
       "      <th>description</th>\n",
       "      <th>designation</th>\n",
       "      <th>points</th>\n",
       "      <th>price</th>\n",
       "      <th>province</th>\n",
       "      <th>region_1</th>\n",
       "      <th>region_2</th>\n",
       "      <th>taster_name</th>\n",
       "      <th>taster_twitter_handle</th>\n",
       "      <th>title</th>\n",
       "      <th>variety</th>\n",
       "      <th>winery</th>\n",
       "    </tr>\n",
       "  </thead>\n",
       "  <tbody>\n",
       "    <tr>\n",
       "      <th>0</th>\n",
       "      <td>0</td>\n",
       "      <td>Italy</td>\n",
       "      <td>Aromas include tropical fruit, broom, brimston...</td>\n",
       "      <td>Vulkà Bianco</td>\n",
       "      <td>87</td>\n",
       "      <td>NaN</td>\n",
       "      <td>Sicily &amp; Sardinia</td>\n",
       "      <td>Etna</td>\n",
       "      <td>NaN</td>\n",
       "      <td>Kerin O’Keefe</td>\n",
       "      <td>@kerinokeefe</td>\n",
       "      <td>Nicosia 2013 Vulkà Bianco  (Etna)</td>\n",
       "      <td>White Blend</td>\n",
       "      <td>Nicosia</td>\n",
       "    </tr>\n",
       "    <tr>\n",
       "      <th>1</th>\n",
       "      <td>1</td>\n",
       "      <td>Portugal</td>\n",
       "      <td>This is ripe and fruity, a wine that is smooth...</td>\n",
       "      <td>Avidagos</td>\n",
       "      <td>87</td>\n",
       "      <td>15.0</td>\n",
       "      <td>Douro</td>\n",
       "      <td>NaN</td>\n",
       "      <td>NaN</td>\n",
       "      <td>Roger Voss</td>\n",
       "      <td>@vossroger</td>\n",
       "      <td>Quinta dos Avidagos 2011 Avidagos Red (Douro)</td>\n",
       "      <td>Portuguese Red</td>\n",
       "      <td>Quinta dos Avidagos</td>\n",
       "    </tr>\n",
       "    <tr>\n",
       "      <th>2</th>\n",
       "      <td>2</td>\n",
       "      <td>US</td>\n",
       "      <td>Tart and snappy, the flavors of lime flesh and...</td>\n",
       "      <td>NaN</td>\n",
       "      <td>87</td>\n",
       "      <td>14.0</td>\n",
       "      <td>Oregon</td>\n",
       "      <td>Willamette Valley</td>\n",
       "      <td>Willamette Valley</td>\n",
       "      <td>Paul Gregutt</td>\n",
       "      <td>@paulgwine</td>\n",
       "      <td>Rainstorm 2013 Pinot Gris (Willamette Valley)</td>\n",
       "      <td>Pinot Gris</td>\n",
       "      <td>Rainstorm</td>\n",
       "    </tr>\n",
       "    <tr>\n",
       "      <th>3</th>\n",
       "      <td>3</td>\n",
       "      <td>US</td>\n",
       "      <td>Pineapple rind, lemon pith and orange blossom ...</td>\n",
       "      <td>Reserve Late Harvest</td>\n",
       "      <td>87</td>\n",
       "      <td>13.0</td>\n",
       "      <td>Michigan</td>\n",
       "      <td>Lake Michigan Shore</td>\n",
       "      <td>NaN</td>\n",
       "      <td>Alexander Peartree</td>\n",
       "      <td>NaN</td>\n",
       "      <td>St. Julian 2013 Reserve Late Harvest Riesling ...</td>\n",
       "      <td>Riesling</td>\n",
       "      <td>St. Julian</td>\n",
       "    </tr>\n",
       "    <tr>\n",
       "      <th>4</th>\n",
       "      <td>4</td>\n",
       "      <td>US</td>\n",
       "      <td>Much like the regular bottling from 2012, this...</td>\n",
       "      <td>Vintner's Reserve Wild Child Block</td>\n",
       "      <td>87</td>\n",
       "      <td>65.0</td>\n",
       "      <td>Oregon</td>\n",
       "      <td>Willamette Valley</td>\n",
       "      <td>Willamette Valley</td>\n",
       "      <td>Paul Gregutt</td>\n",
       "      <td>@paulgwine</td>\n",
       "      <td>Sweet Cheeks 2012 Vintner's Reserve Wild Child...</td>\n",
       "      <td>Pinot Noir</td>\n",
       "      <td>Sweet Cheeks</td>\n",
       "    </tr>\n",
       "  </tbody>\n",
       "</table>\n",
       "</div>"
      ],
      "text/plain": [
       "   Unnamed: 0   country                                        description  \\\n",
       "0           0     Italy  Aromas include tropical fruit, broom, brimston...   \n",
       "1           1  Portugal  This is ripe and fruity, a wine that is smooth...   \n",
       "2           2        US  Tart and snappy, the flavors of lime flesh and...   \n",
       "3           3        US  Pineapple rind, lemon pith and orange blossom ...   \n",
       "4           4        US  Much like the regular bottling from 2012, this...   \n",
       "\n",
       "                          designation  points  price           province  \\\n",
       "0                        Vulkà Bianco      87    NaN  Sicily & Sardinia   \n",
       "1                            Avidagos      87   15.0              Douro   \n",
       "2                                 NaN      87   14.0             Oregon   \n",
       "3                Reserve Late Harvest      87   13.0           Michigan   \n",
       "4  Vintner's Reserve Wild Child Block      87   65.0             Oregon   \n",
       "\n",
       "              region_1           region_2         taster_name  \\\n",
       "0                 Etna                NaN       Kerin O’Keefe   \n",
       "1                  NaN                NaN          Roger Voss   \n",
       "2    Willamette Valley  Willamette Valley        Paul Gregutt   \n",
       "3  Lake Michigan Shore                NaN  Alexander Peartree   \n",
       "4    Willamette Valley  Willamette Valley        Paul Gregutt   \n",
       "\n",
       "  taster_twitter_handle                                              title  \\\n",
       "0          @kerinokeefe                  Nicosia 2013 Vulkà Bianco  (Etna)   \n",
       "1            @vossroger      Quinta dos Avidagos 2011 Avidagos Red (Douro)   \n",
       "2           @paulgwine       Rainstorm 2013 Pinot Gris (Willamette Valley)   \n",
       "3                   NaN  St. Julian 2013 Reserve Late Harvest Riesling ...   \n",
       "4           @paulgwine   Sweet Cheeks 2012 Vintner's Reserve Wild Child...   \n",
       "\n",
       "          variety               winery  \n",
       "0     White Blend              Nicosia  \n",
       "1  Portuguese Red  Quinta dos Avidagos  \n",
       "2      Pinot Gris            Rainstorm  \n",
       "3        Riesling           St. Julian  \n",
       "4      Pinot Noir         Sweet Cheeks  "
      ]
     },
     "execution_count": 2,
     "metadata": {},
     "output_type": "execute_result"
    }
   ],
   "source": [
    "#importing the data set\n",
    "df=pd.read_csv(\"wine-reviews.csv\")\n",
    "df.head()"
   ]
  },
  {
   "cell_type": "code",
   "execution_count": 4,
   "id": "01a0b3fb",
   "metadata": {},
   "outputs": [
    {
     "data": {
      "text/plain": [
       "(129971, 14)"
      ]
     },
     "execution_count": 4,
     "metadata": {},
     "output_type": "execute_result"
    }
   ],
   "source": [
    "df.shape"
   ]
  },
  {
   "cell_type": "code",
   "execution_count": 5,
   "id": "9099e89a",
   "metadata": {},
   "outputs": [
    {
     "data": {
      "text/html": [
       "<div>\n",
       "<style scoped>\n",
       "    .dataframe tbody tr th:only-of-type {\n",
       "        vertical-align: middle;\n",
       "    }\n",
       "\n",
       "    .dataframe tbody tr th {\n",
       "        vertical-align: top;\n",
       "    }\n",
       "\n",
       "    .dataframe thead th {\n",
       "        text-align: right;\n",
       "    }\n",
       "</style>\n",
       "<table border=\"1\" class=\"dataframe\">\n",
       "  <thead>\n",
       "    <tr style=\"text-align: right;\">\n",
       "      <th></th>\n",
       "      <th>Unnamed: 0</th>\n",
       "      <th>points</th>\n",
       "      <th>price</th>\n",
       "    </tr>\n",
       "  </thead>\n",
       "  <tbody>\n",
       "    <tr>\n",
       "      <th>count</th>\n",
       "      <td>129971.000000</td>\n",
       "      <td>129971.000000</td>\n",
       "      <td>120975.000000</td>\n",
       "    </tr>\n",
       "    <tr>\n",
       "      <th>mean</th>\n",
       "      <td>64985.000000</td>\n",
       "      <td>88.447138</td>\n",
       "      <td>35.363389</td>\n",
       "    </tr>\n",
       "    <tr>\n",
       "      <th>std</th>\n",
       "      <td>37519.540256</td>\n",
       "      <td>3.039730</td>\n",
       "      <td>41.022218</td>\n",
       "    </tr>\n",
       "    <tr>\n",
       "      <th>min</th>\n",
       "      <td>0.000000</td>\n",
       "      <td>80.000000</td>\n",
       "      <td>4.000000</td>\n",
       "    </tr>\n",
       "    <tr>\n",
       "      <th>25%</th>\n",
       "      <td>32492.500000</td>\n",
       "      <td>86.000000</td>\n",
       "      <td>17.000000</td>\n",
       "    </tr>\n",
       "    <tr>\n",
       "      <th>50%</th>\n",
       "      <td>64985.000000</td>\n",
       "      <td>88.000000</td>\n",
       "      <td>25.000000</td>\n",
       "    </tr>\n",
       "    <tr>\n",
       "      <th>75%</th>\n",
       "      <td>97477.500000</td>\n",
       "      <td>91.000000</td>\n",
       "      <td>42.000000</td>\n",
       "    </tr>\n",
       "    <tr>\n",
       "      <th>max</th>\n",
       "      <td>129970.000000</td>\n",
       "      <td>100.000000</td>\n",
       "      <td>3300.000000</td>\n",
       "    </tr>\n",
       "  </tbody>\n",
       "</table>\n",
       "</div>"
      ],
      "text/plain": [
       "          Unnamed: 0         points          price\n",
       "count  129971.000000  129971.000000  120975.000000\n",
       "mean    64985.000000      88.447138      35.363389\n",
       "std     37519.540256       3.039730      41.022218\n",
       "min         0.000000      80.000000       4.000000\n",
       "25%     32492.500000      86.000000      17.000000\n",
       "50%     64985.000000      88.000000      25.000000\n",
       "75%     97477.500000      91.000000      42.000000\n",
       "max    129970.000000     100.000000    3300.000000"
      ]
     },
     "execution_count": 5,
     "metadata": {},
     "output_type": "execute_result"
    }
   ],
   "source": [
    "#getting valuable information about data\n",
    "df.describe()"
   ]
  },
  {
   "cell_type": "code",
   "execution_count": 6,
   "id": "a0c26609",
   "metadata": {},
   "outputs": [
    {
     "name": "stdout",
     "output_type": "stream",
     "text": [
      "<class 'pandas.core.frame.DataFrame'>\n",
      "RangeIndex: 129971 entries, 0 to 129970\n",
      "Data columns (total 14 columns):\n",
      " #   Column                 Non-Null Count   Dtype  \n",
      "---  ------                 --------------   -----  \n",
      " 0   Unnamed: 0             129971 non-null  int64  \n",
      " 1   country                129908 non-null  object \n",
      " 2   description            129971 non-null  object \n",
      " 3   designation            92506 non-null   object \n",
      " 4   points                 129971 non-null  int64  \n",
      " 5   price                  120975 non-null  float64\n",
      " 6   province               129908 non-null  object \n",
      " 7   region_1               108724 non-null  object \n",
      " 8   region_2               50511 non-null   object \n",
      " 9   taster_name            103727 non-null  object \n",
      " 10  taster_twitter_handle  98758 non-null   object \n",
      " 11  title                  129971 non-null  object \n",
      " 12  variety                129970 non-null  object \n",
      " 13  winery                 129971 non-null  object \n",
      "dtypes: float64(1), int64(2), object(11)\n",
      "memory usage: 8.4+ MB\n"
     ]
    }
   ],
   "source": [
    "#getting properties of columns in data\n",
    "df.info()"
   ]
  },
  {
   "cell_type": "code",
   "execution_count": 7,
   "id": "23f9c472",
   "metadata": {},
   "outputs": [
    {
     "data": {
      "text/plain": [
       "US                        54504\n",
       "France                    22093\n",
       "Italy                     19540\n",
       "Spain                      6645\n",
       "Portugal                   5691\n",
       "Chile                      4472\n",
       "Argentina                  3800\n",
       "Austria                    3345\n",
       "Australia                  2329\n",
       "Germany                    2165\n",
       "New Zealand                1419\n",
       "South Africa               1401\n",
       "Israel                      505\n",
       "Greece                      466\n",
       "Canada                      257\n",
       "Hungary                     146\n",
       "Bulgaria                    141\n",
       "Romania                     120\n",
       "Uruguay                     109\n",
       "Turkey                       90\n",
       "Slovenia                     87\n",
       "Georgia                      86\n",
       "England                      74\n",
       "Croatia                      73\n",
       "Mexico                       70\n",
       "Moldova                      59\n",
       "Brazil                       52\n",
       "Lebanon                      35\n",
       "Morocco                      28\n",
       "Peru                         16\n",
       "Ukraine                      14\n",
       "Serbia                       12\n",
       "Czech Republic               12\n",
       "Macedonia                    12\n",
       "Cyprus                       11\n",
       "India                         9\n",
       "Switzerland                   7\n",
       "Luxembourg                    6\n",
       "Bosnia and Herzegovina        2\n",
       "Armenia                       2\n",
       "Slovakia                      1\n",
       "China                         1\n",
       "Egypt                         1\n",
       "Name: country, dtype: int64"
      ]
     },
     "execution_count": 7,
     "metadata": {},
     "output_type": "execute_result"
    }
   ],
   "source": [
    "#counting number of reviews from each country\n",
    "df[\"country\"].value_counts()"
   ]
  },
  {
   "cell_type": "code",
   "execution_count": 8,
   "id": "f64830db",
   "metadata": {},
   "outputs": [
    {
     "data": {
      "text/plain": [
       "Pinot Noir                    13272\n",
       "Chardonnay                    11753\n",
       "Cabernet Sauvignon             9472\n",
       "Red Blend                      8946\n",
       "Bordeaux-style Red Blend       6915\n",
       "                              ...  \n",
       "Cabernet Sauvignon-Barbera        1\n",
       "Sauvignonasse                     1\n",
       "Forcallà                          1\n",
       "Meseguera                         1\n",
       "Bobal-Cabernet Sauvignon          1\n",
       "Name: variety, Length: 707, dtype: int64"
      ]
     },
     "execution_count": 8,
     "metadata": {},
     "output_type": "execute_result"
    }
   ],
   "source": [
    "#counting number of datasets for each variety\n",
    "df[\"variety\"].value_counts()"
   ]
  },
  {
   "cell_type": "code",
   "execution_count": 9,
   "id": "109d034d",
   "metadata": {},
   "outputs": [
    {
     "data": {
      "text/plain": [
       "0"
      ]
     },
     "execution_count": 9,
     "metadata": {},
     "output_type": "execute_result"
    }
   ],
   "source": [
    "#Checking for duplicate values\n",
    "sum(df.duplicated())"
   ]
  },
  {
   "cell_type": "markdown",
   "id": "f1141547",
   "metadata": {},
   "source": [
    "# Cleaning the data"
   ]
  },
  {
   "cell_type": "code",
   "execution_count": 10,
   "id": "3251fe3c",
   "metadata": {},
   "outputs": [],
   "source": [
    "df2=df.copy()"
   ]
  },
  {
   "cell_type": "code",
   "execution_count": 13,
   "id": "f73b946c",
   "metadata": {},
   "outputs": [
    {
     "data": {
      "text/plain": [
       "Index(['Unnamed: 0', 'country', 'description', 'designation', 'points',\n",
       "       'price', 'province', 'region_1', 'region_2', 'taster_name',\n",
       "       'taster_twitter_handle', 'title', 'variety', 'winery'],\n",
       "      dtype='object')"
      ]
     },
     "execution_count": 13,
     "metadata": {},
     "output_type": "execute_result"
    }
   ],
   "source": [
    "df2.columns"
   ]
  },
  {
   "cell_type": "code",
   "execution_count": 14,
   "id": "a9c54109",
   "metadata": {},
   "outputs": [],
   "source": [
    "#drop useless columns\n",
    "df3=df2.drop(['Unnamed: 0', 'designation', 'region_1', 'region_2', 'taster_name','taster_twitter_handle'],axis=1)"
   ]
  },
  {
   "cell_type": "code",
   "execution_count": 15,
   "id": "96bdabbc",
   "metadata": {},
   "outputs": [
    {
     "data": {
      "text/html": [
       "<div>\n",
       "<style scoped>\n",
       "    .dataframe tbody tr th:only-of-type {\n",
       "        vertical-align: middle;\n",
       "    }\n",
       "\n",
       "    .dataframe tbody tr th {\n",
       "        vertical-align: top;\n",
       "    }\n",
       "\n",
       "    .dataframe thead th {\n",
       "        text-align: right;\n",
       "    }\n",
       "</style>\n",
       "<table border=\"1\" class=\"dataframe\">\n",
       "  <thead>\n",
       "    <tr style=\"text-align: right;\">\n",
       "      <th></th>\n",
       "      <th>country</th>\n",
       "      <th>description</th>\n",
       "      <th>points</th>\n",
       "      <th>price</th>\n",
       "      <th>province</th>\n",
       "      <th>title</th>\n",
       "      <th>variety</th>\n",
       "      <th>winery</th>\n",
       "    </tr>\n",
       "  </thead>\n",
       "  <tbody>\n",
       "    <tr>\n",
       "      <th>0</th>\n",
       "      <td>Italy</td>\n",
       "      <td>Aromas include tropical fruit, broom, brimston...</td>\n",
       "      <td>87</td>\n",
       "      <td>NaN</td>\n",
       "      <td>Sicily &amp; Sardinia</td>\n",
       "      <td>Nicosia 2013 Vulkà Bianco  (Etna)</td>\n",
       "      <td>White Blend</td>\n",
       "      <td>Nicosia</td>\n",
       "    </tr>\n",
       "    <tr>\n",
       "      <th>1</th>\n",
       "      <td>Portugal</td>\n",
       "      <td>This is ripe and fruity, a wine that is smooth...</td>\n",
       "      <td>87</td>\n",
       "      <td>15.0</td>\n",
       "      <td>Douro</td>\n",
       "      <td>Quinta dos Avidagos 2011 Avidagos Red (Douro)</td>\n",
       "      <td>Portuguese Red</td>\n",
       "      <td>Quinta dos Avidagos</td>\n",
       "    </tr>\n",
       "    <tr>\n",
       "      <th>2</th>\n",
       "      <td>US</td>\n",
       "      <td>Tart and snappy, the flavors of lime flesh and...</td>\n",
       "      <td>87</td>\n",
       "      <td>14.0</td>\n",
       "      <td>Oregon</td>\n",
       "      <td>Rainstorm 2013 Pinot Gris (Willamette Valley)</td>\n",
       "      <td>Pinot Gris</td>\n",
       "      <td>Rainstorm</td>\n",
       "    </tr>\n",
       "    <tr>\n",
       "      <th>3</th>\n",
       "      <td>US</td>\n",
       "      <td>Pineapple rind, lemon pith and orange blossom ...</td>\n",
       "      <td>87</td>\n",
       "      <td>13.0</td>\n",
       "      <td>Michigan</td>\n",
       "      <td>St. Julian 2013 Reserve Late Harvest Riesling ...</td>\n",
       "      <td>Riesling</td>\n",
       "      <td>St. Julian</td>\n",
       "    </tr>\n",
       "    <tr>\n",
       "      <th>4</th>\n",
       "      <td>US</td>\n",
       "      <td>Much like the regular bottling from 2012, this...</td>\n",
       "      <td>87</td>\n",
       "      <td>65.0</td>\n",
       "      <td>Oregon</td>\n",
       "      <td>Sweet Cheeks 2012 Vintner's Reserve Wild Child...</td>\n",
       "      <td>Pinot Noir</td>\n",
       "      <td>Sweet Cheeks</td>\n",
       "    </tr>\n",
       "  </tbody>\n",
       "</table>\n",
       "</div>"
      ],
      "text/plain": [
       "    country                                        description  points  price  \\\n",
       "0     Italy  Aromas include tropical fruit, broom, brimston...      87    NaN   \n",
       "1  Portugal  This is ripe and fruity, a wine that is smooth...      87   15.0   \n",
       "2        US  Tart and snappy, the flavors of lime flesh and...      87   14.0   \n",
       "3        US  Pineapple rind, lemon pith and orange blossom ...      87   13.0   \n",
       "4        US  Much like the regular bottling from 2012, this...      87   65.0   \n",
       "\n",
       "            province                                              title  \\\n",
       "0  Sicily & Sardinia                  Nicosia 2013 Vulkà Bianco  (Etna)   \n",
       "1              Douro      Quinta dos Avidagos 2011 Avidagos Red (Douro)   \n",
       "2             Oregon      Rainstorm 2013 Pinot Gris (Willamette Valley)   \n",
       "3           Michigan  St. Julian 2013 Reserve Late Harvest Riesling ...   \n",
       "4             Oregon  Sweet Cheeks 2012 Vintner's Reserve Wild Child...   \n",
       "\n",
       "          variety               winery  \n",
       "0     White Blend              Nicosia  \n",
       "1  Portuguese Red  Quinta dos Avidagos  \n",
       "2      Pinot Gris            Rainstorm  \n",
       "3        Riesling           St. Julian  \n",
       "4      Pinot Noir         Sweet Cheeks  "
      ]
     },
     "execution_count": 15,
     "metadata": {},
     "output_type": "execute_result"
    }
   ],
   "source": [
    "df3.head()"
   ]
  },
  {
   "cell_type": "code",
   "execution_count": 16,
   "id": "d91c821e",
   "metadata": {},
   "outputs": [
    {
     "name": "stdout",
     "output_type": "stream",
     "text": [
      "93%\n"
     ]
    }
   ],
   "source": [
    "#checking for proportion of price not null\n",
    "print(\"{:.0%}\".format(df3[\"price\"].count()/df3.shape[0]))"
   ]
  },
  {
   "cell_type": "code",
   "execution_count": 19,
   "id": "850f30a5",
   "metadata": {},
   "outputs": [],
   "source": [
    "#removing null values\n",
    "df4=df3.dropna(subset=[\"country\",\"price\",\"variety\"])"
   ]
  },
  {
   "cell_type": "code",
   "execution_count": 20,
   "id": "2f0a29aa",
   "metadata": {},
   "outputs": [
    {
     "name": "stdout",
     "output_type": "stream",
     "text": [
      "<class 'pandas.core.frame.DataFrame'>\n",
      "Int64Index: 120915 entries, 1 to 129970\n",
      "Data columns (total 8 columns):\n",
      " #   Column       Non-Null Count   Dtype  \n",
      "---  ------       --------------   -----  \n",
      " 0   country      120915 non-null  object \n",
      " 1   description  120915 non-null  object \n",
      " 2   points       120915 non-null  int64  \n",
      " 3   price        120915 non-null  float64\n",
      " 4   province     120915 non-null  object \n",
      " 5   title        120915 non-null  object \n",
      " 6   variety      120915 non-null  object \n",
      " 7   winery       120915 non-null  object \n",
      "dtypes: float64(1), int64(1), object(6)\n",
      "memory usage: 5.5+ MB\n"
     ]
    }
   ],
   "source": [
    "df4.info()"
   ]
  },
  {
   "cell_type": "markdown",
   "id": "a2685f04",
   "metadata": {},
   "source": [
    "# Data Analysis"
   ]
  },
  {
   "cell_type": "markdown",
   "id": "eafbefdc",
   "metadata": {},
   "source": [
    "Questions we intend to answer:\n",
    "1) Where does the best wine come from?                                                  \n",
    "2) Is price of wine is related to its quality?                                      \n",
    "3) Are certain varieties of wine higher quality?                                               \n",
    "4) What is the best wine in each price bracket?"
   ]
  },
  {
   "cell_type": "code",
   "execution_count": 21,
   "id": "70a4ef54",
   "metadata": {},
   "outputs": [
    {
     "data": {
      "text/plain": [
       "US           54265\n",
       "France       17776\n",
       "Italy        16914\n",
       "Spain         6573\n",
       "Portugal      4875\n",
       "Chile         4415\n",
       "Argentina     3756\n",
       "Austria       2799\n",
       "Australia     2294\n",
       "Germany       2120\n",
       "Name: country, dtype: int64"
      ]
     },
     "execution_count": 21,
     "metadata": {},
     "output_type": "execute_result"
    }
   ],
   "source": [
    "#Top 10 wine producing countries\n",
    "top_country=df4[\"country\"].value_counts()[:10]\n",
    "top_country"
   ]
  },
  {
   "cell_type": "code",
   "execution_count": 23,
   "id": "85e448b2",
   "metadata": {},
   "outputs": [
    {
     "data": {
      "text/plain": [
       "Text(0, 0.5, 'Number of Ratings')"
      ]
     },
     "execution_count": 23,
     "metadata": {},
     "output_type": "execute_result"
    },
    {
     "data": {
      "image/png": "[encoded data removed]",
      "text/plain": [
       "<Figure size 720x504 with 1 Axes>"
      ]
     },
     "metadata": {},
     "output_type": "display_data"
    }
   ],
   "source": [
    "plt.figure(figsize=(10,7))\n",
    "top_country.plot(kind=\"bar\",color=\"blue\")\n",
    "plt.title(\"Number of Wine Ratings by Country\",fontsize=15)\n",
    "plt.xlabel(\"Country\")\n",
    "plt.ylabel(\"Number of Ratings\")"
   ]
  },
  {
   "cell_type": "code",
   "execution_count": 24,
   "id": "8df1df34",
   "metadata": {},
   "outputs": [
    {
     "data": {
      "text/plain": [
       "Text(0, 0.5, 'Frequency')"
      ]
     },
     "execution_count": 24,
     "metadata": {},
     "output_type": "execute_result"
    },
    {
     "data": {
      "image/png": "[encoded data removed]",
      "text/plain": [
       "<Figure size 720x504 with 1 Axes>"
      ]
     },
     "metadata": {},
     "output_type": "display_data"
    }
   ],
   "source": [
    "#check for the distribution of wine prices\n",
    "plt.figure(figsize=(10,7))\n",
    "bins=np.arange(0,df4[\"price\"].max()+5,5)\n",
    "plt.hist(data=df4,x=\"price\",bins=bins,color=\"blue\")\n",
    "plt.xlim(0,200)\n",
    "plt.title(\"Distribution of wine prices\",fontsize=15)\n",
    "plt.xlabel(\"Price($)\")\n",
    "plt.ylabel(\"Frequency\")"
   ]
  },
  {
   "cell_type": "code",
   "execution_count": 25,
   "id": "19121458",
   "metadata": {},
   "outputs": [
    {
     "data": {
      "text/plain": [
       "count    120915.000000\n",
       "mean         35.368796\n",
       "std          41.031188\n",
       "min           4.000000\n",
       "25%          17.000000\n",
       "50%          25.000000\n",
       "75%          42.000000\n",
       "max        3300.000000\n",
       "Name: price, dtype: float64"
      ]
     },
     "execution_count": 25,
     "metadata": {},
     "output_type": "execute_result"
    }
   ],
   "source": [
    "df4[\"price\"].describe()"
   ]
  },
  {
   "cell_type": "code",
   "execution_count": 27,
   "id": "18ca3348",
   "metadata": {},
   "outputs": [
    {
     "data": {
      "text/plain": [
       "count    5.082480\n",
       "mean     1.548620\n",
       "std      1.613114\n",
       "min      0.602060\n",
       "25%      1.230449\n",
       "50%      1.397940\n",
       "75%      1.623249\n",
       "max      3.518514\n",
       "Name: price, dtype: float64"
      ]
     },
     "execution_count": 27,
     "metadata": {},
     "output_type": "execute_result"
    }
   ],
   "source": [
    "np.log10(df4[\"price\"].describe())"
   ]
  },
  {
   "cell_type": "code",
   "execution_count": 28,
   "id": "02c18a37",
   "metadata": {},
   "outputs": [
    {
     "data": {
      "text/plain": [
       "Text(0, 0.5, 'Frequency')"
      ]
     },
     "execution_count": 28,
     "metadata": {},
     "output_type": "execute_result"
    },
    {
     "data": {
      "image/png": "[encoded data removed]",
      "text/plain": [
       "<Figure size 720x504 with 1 Axes>"
      ]
     },
     "metadata": {},
     "output_type": "display_data"
    }
   ],
   "source": [
    "#again checking for the distribution of wine prices on a log scale\n",
    "plt.figure(figsize=(10,7))\n",
    "bins=10**np.arange(0.5,3.5+0.05,0.05)\n",
    "ticks=[1,3,10,30,100,300,1000,3000,10000]\n",
    "plt.hist(data=df4,x=\"price\",bins=bins,color=\"blue\")\n",
    "plt.title(\"Distribution of wine prices\",fontsize=15)\n",
    "plt.xscale(\"log\")\n",
    "plt.xticks(ticks,ticks)\n",
    "plt.xlabel(\"Price($)\")\n",
    "plt.ylabel(\"Frequency\")"
   ]
  },
  {
   "cell_type": "markdown",
   "id": "e481c250",
   "metadata": {},
   "source": [
    "There is a jump around 10 mark and a clear peak at just above 20. There ia also a peak around 50."
   ]
  },
  {
   "cell_type": "code",
   "execution_count": 29,
   "id": "ac586682",
   "metadata": {},
   "outputs": [
    {
     "data": {
      "text/plain": [
       "Text(0, 0.5, 'Points')"
      ]
     },
     "execution_count": 29,
     "metadata": {},
     "output_type": "execute_result"
    },
    {
     "data": {
      "image/png": "[encoded data removed]",
      "text/plain": [
       "<Figure size 720x504 with 1 Axes>"
      ]
     },
     "metadata": {},
     "output_type": "display_data"
    }
   ],
   "source": [
    "#Scatter plot to show relationship between points and price\n",
    "x=[1,3,10,30,100,300,1000,3000,10000]\n",
    "plt.figure(figsize=(10,7))\n",
    "sns.regplot(x=\"price\",y=\"points\",data=df4, color=\"blue\",logx=True,scatter_kws={\"alpha\":0.3})\n",
    "plt.title(\"Points v/s Price\",fontsize=14)\n",
    "plt.xscale(\"log\")\n",
    "plt.xticks(x,x)\n",
    "plt.xlabel(\"Price($)\")\n",
    "plt.ylabel(\"Points\")"
   ]
  },
  {
   "cell_type": "code",
   "execution_count": 31,
   "id": "22bbf171",
   "metadata": {},
   "outputs": [
    {
     "data": {
      "text/html": [
       "<div>\n",
       "<style scoped>\n",
       "    .dataframe tbody tr th:only-of-type {\n",
       "        vertical-align: middle;\n",
       "    }\n",
       "\n",
       "    .dataframe tbody tr th {\n",
       "        vertical-align: top;\n",
       "    }\n",
       "\n",
       "    .dataframe thead th {\n",
       "        text-align: right;\n",
       "    }\n",
       "</style>\n",
       "<table border=\"1\" class=\"dataframe\">\n",
       "  <thead>\n",
       "    <tr style=\"text-align: right;\">\n",
       "      <th></th>\n",
       "      <th>country</th>\n",
       "      <th>description</th>\n",
       "      <th>points</th>\n",
       "      <th>price</th>\n",
       "      <th>province</th>\n",
       "      <th>title</th>\n",
       "      <th>variety</th>\n",
       "      <th>winery</th>\n",
       "    </tr>\n",
       "  </thead>\n",
       "  <tbody>\n",
       "    <tr>\n",
       "      <th>1987</th>\n",
       "      <td>Spain</td>\n",
       "      <td>Berry and cherry aromas are surprisingly sturd...</td>\n",
       "      <td>85</td>\n",
       "      <td>4.0</td>\n",
       "      <td>Central Spain</td>\n",
       "      <td>Felix Solis 2013 Flirty Bird Syrah (Vino de la...</td>\n",
       "      <td>Syrah</td>\n",
       "      <td>Felix Solis</td>\n",
       "    </tr>\n",
       "  </tbody>\n",
       "</table>\n",
       "</div>"
      ],
      "text/plain": [
       "     country                                        description  points  \\\n",
       "1987   Spain  Berry and cherry aromas are surprisingly sturd...      85   \n",
       "\n",
       "      price       province                                              title  \\\n",
       "1987    4.0  Central Spain  Felix Solis 2013 Flirty Bird Syrah (Vino de la...   \n",
       "\n",
       "     variety       winery  \n",
       "1987   Syrah  Felix Solis  "
      ]
     },
     "execution_count": 31,
     "metadata": {},
     "output_type": "execute_result"
    }
   ],
   "source": [
    "#Cheapest wine\n",
    "df4[df4[\"price\"]==df4[\"price\"].min()][:1]"
   ]
  },
  {
   "cell_type": "code",
   "execution_count": 32,
   "id": "a3f212e9",
   "metadata": {},
   "outputs": [
    {
     "data": {
      "text/html": [
       "<div>\n",
       "<style scoped>\n",
       "    .dataframe tbody tr th:only-of-type {\n",
       "        vertical-align: middle;\n",
       "    }\n",
       "\n",
       "    .dataframe tbody tr th {\n",
       "        vertical-align: top;\n",
       "    }\n",
       "\n",
       "    .dataframe thead th {\n",
       "        text-align: right;\n",
       "    }\n",
       "</style>\n",
       "<table border=\"1\" class=\"dataframe\">\n",
       "  <thead>\n",
       "    <tr style=\"text-align: right;\">\n",
       "      <th></th>\n",
       "      <th>country</th>\n",
       "      <th>description</th>\n",
       "      <th>points</th>\n",
       "      <th>price</th>\n",
       "      <th>province</th>\n",
       "      <th>title</th>\n",
       "      <th>variety</th>\n",
       "      <th>winery</th>\n",
       "    </tr>\n",
       "  </thead>\n",
       "  <tbody>\n",
       "    <tr>\n",
       "      <th>80290</th>\n",
       "      <td>France</td>\n",
       "      <td>This ripe wine shows plenty of blackberry frui...</td>\n",
       "      <td>88</td>\n",
       "      <td>3300.0</td>\n",
       "      <td>Bordeaux</td>\n",
       "      <td>Château les Ormes Sorbet 2013  Médoc</td>\n",
       "      <td>Bordeaux-style Red Blend</td>\n",
       "      <td>Château les Ormes Sorbet</td>\n",
       "    </tr>\n",
       "  </tbody>\n",
       "</table>\n",
       "</div>"
      ],
      "text/plain": [
       "      country                                        description  points  \\\n",
       "80290  France  This ripe wine shows plenty of blackberry frui...      88   \n",
       "\n",
       "        price  province                                 title  \\\n",
       "80290  3300.0  Bordeaux  Château les Ormes Sorbet 2013  Médoc   \n",
       "\n",
       "                        variety                    winery  \n",
       "80290  Bordeaux-style Red Blend  Château les Ormes Sorbet  "
      ]
     },
     "execution_count": 32,
     "metadata": {},
     "output_type": "execute_result"
    }
   ],
   "source": [
    "# Most expensive wine\n",
    "df4[df4[\"price\"]==df4[\"price\"].max()][:1]"
   ]
  },
  {
   "cell_type": "code",
   "execution_count": 33,
   "id": "f58112e6",
   "metadata": {},
   "outputs": [
    {
     "data": {
      "image/png": "[encoded data removed]",
      "text/plain": [
       "<Figure size 1440x1296 with 1 Axes>"
      ]
     },
     "metadata": {},
     "output_type": "display_data"
    }
   ],
   "source": [
    "plt.figure(figsize=(20,18))\n",
    "sns.boxplot(data=df4, x=\"variety\", y=\"points\", color=\"blue\", order=df4[\"variety\"].value_counts().iloc[:20].index)\n",
    "plt.title(\"Points Distribution by Variety\",fontsize=15)\n",
    "plt.xlabel(\"Variety\")\n",
    "plt.ylabel(\"Points\")\n",
    "plt.xticks(rotation=90);"
   ]
  },
  {
   "cell_type": "markdown",
   "id": "2167faf5",
   "metadata": {},
   "source": [
    "Best Wine in each price bracket"
   ]
  },
  {
   "cell_type": "code",
   "execution_count": 36,
   "id": "2edc2b9e",
   "metadata": {},
   "outputs": [
    {
     "data": {
      "text/html": [
       "<style type=\"text/css\">\n",
       "#T_d959c_row0_col2, #T_d959c_row6_col2, #T_d959c_row7_col2, #T_d959c_row9_col2 {\n",
       "  background-color: #b4c4df;\n",
       "  color: #000000;\n",
       "}\n",
       "#T_d959c_row1_col2, #T_d959c_row8_col2 {\n",
       "  background-color: #fff7fb;\n",
       "  color: #000000;\n",
       "}\n",
       "#T_d959c_row2_col2, #T_d959c_row3_col2, #T_d959c_row4_col2, #T_d959c_row5_col2 {\n",
       "  background-color: #2685bb;\n",
       "  color: #f1f1f1;\n",
       "}\n",
       "</style>\n",
       "<table id=\"T_d959c_\">\n",
       "  <thead>\n",
       "    <tr>\n",
       "      <th class=\"blank level0\" >&nbsp;</th>\n",
       "      <th class=\"col_heading level0 col0\" >country</th>\n",
       "      <th class=\"col_heading level0 col1\" >points</th>\n",
       "      <th class=\"col_heading level0 col2\" >price</th>\n",
       "      <th class=\"col_heading level0 col3\" >title</th>\n",
       "      <th class=\"col_heading level0 col4\" >variety</th>\n",
       "    </tr>\n",
       "  </thead>\n",
       "  <tbody>\n",
       "    <tr>\n",
       "      <th id=\"T_d959c_level0_row0\" class=\"row_heading level0 row0\" >19136</th>\n",
       "      <td id=\"T_d959c_row0_col0\" class=\"data row0 col0\" >Spain</td>\n",
       "      <td id=\"T_d959c_row0_col1\" class=\"data row0 col1\" >94</td>\n",
       "      <td id=\"T_d959c_row0_col2\" class=\"data row0 col2\" >14.000000</td>\n",
       "      <td id=\"T_d959c_row0_col3\" class=\"data row0 col3\" >Osborne NV Pedro Ximenez 1827 Sweet Sherry Sherry (Jerez)</td>\n",
       "      <td id=\"T_d959c_row0_col4\" class=\"data row0 col4\" >Sherry</td>\n",
       "    </tr>\n",
       "    <tr>\n",
       "      <th id=\"T_d959c_level0_row1\" class=\"row_heading level0 row1\" >23974</th>\n",
       "      <td id=\"T_d959c_row1_col0\" class=\"data row1 col0\" >Portugal</td>\n",
       "      <td id=\"T_d959c_row1_col1\" class=\"data row1 col1\" >94</td>\n",
       "      <td id=\"T_d959c_row1_col2\" class=\"data row1 col2\" >13.000000</td>\n",
       "      <td id=\"T_d959c_row1_col3\" class=\"data row1 col3\" >Quinta dos Murças 2011 Assobio Red (Douro)</td>\n",
       "      <td id=\"T_d959c_row1_col4\" class=\"data row1 col4\" >Portuguese Red</td>\n",
       "    </tr>\n",
       "    <tr>\n",
       "      <th id=\"T_d959c_level0_row2\" class=\"row_heading level0 row2\" >12255</th>\n",
       "      <td id=\"T_d959c_row2_col0\" class=\"data row2 col0\" >South Africa</td>\n",
       "      <td id=\"T_d959c_row2_col1\" class=\"data row2 col1\" >93</td>\n",
       "      <td id=\"T_d959c_row2_col2\" class=\"data row2 col2\" >15.000000</td>\n",
       "      <td id=\"T_d959c_row2_col3\" class=\"data row2 col3\" >Simonsig 1998 Cabernet Sauvignon (Stellenbosch)</td>\n",
       "      <td id=\"T_d959c_row2_col4\" class=\"data row2 col4\" >Cabernet Sauvignon</td>\n",
       "    </tr>\n",
       "    <tr>\n",
       "      <th id=\"T_d959c_level0_row3\" class=\"row_heading level0 row3\" >129572</th>\n",
       "      <td id=\"T_d959c_row3_col0\" class=\"data row3 col0\" >France</td>\n",
       "      <td id=\"T_d959c_row3_col1\" class=\"data row3 col1\" >93</td>\n",
       "      <td id=\"T_d959c_row3_col2\" class=\"data row3 col2\" >15.000000</td>\n",
       "      <td id=\"T_d959c_row3_col3\" class=\"data row3 col3\" >Domaine des Carteresses 2016  Tavel</td>\n",
       "      <td id=\"T_d959c_row3_col4\" class=\"data row3 col4\" >Rosé</td>\n",
       "    </tr>\n",
       "    <tr>\n",
       "      <th id=\"T_d959c_level0_row4\" class=\"row_heading level0 row4\" >37882</th>\n",
       "      <td id=\"T_d959c_row4_col0\" class=\"data row4 col0\" >Australia</td>\n",
       "      <td id=\"T_d959c_row4_col1\" class=\"data row4 col1\" >93</td>\n",
       "      <td id=\"T_d959c_row4_col2\" class=\"data row4 col2\" >15.000000</td>\n",
       "      <td id=\"T_d959c_row4_col3\" class=\"data row4 col3\" >Marquis Philips 2000 Sarah's Blend Red (South Eastern Australia)</td>\n",
       "      <td id=\"T_d959c_row4_col4\" class=\"data row4 col4\" >Red Blend</td>\n",
       "    </tr>\n",
       "    <tr>\n",
       "      <th id=\"T_d959c_level0_row5\" class=\"row_heading level0 row5\" >74042</th>\n",
       "      <td id=\"T_d959c_row5_col0\" class=\"data row5 col0\" >France</td>\n",
       "      <td id=\"T_d959c_row5_col1\" class=\"data row5 col1\" >93</td>\n",
       "      <td id=\"T_d959c_row5_col2\" class=\"data row5 col2\" >15.000000</td>\n",
       "      <td id=\"T_d959c_row5_col3\" class=\"data row5 col3\" >Domaine des Carteresses 2016  Tavel</td>\n",
       "      <td id=\"T_d959c_row5_col4\" class=\"data row5 col4\" >Rosé</td>\n",
       "    </tr>\n",
       "    <tr>\n",
       "      <th id=\"T_d959c_level0_row6\" class=\"row_heading level0 row6\" >52776</th>\n",
       "      <td id=\"T_d959c_row6_col0\" class=\"data row6 col0\" >US</td>\n",
       "      <td id=\"T_d959c_row6_col1\" class=\"data row6 col1\" >93</td>\n",
       "      <td id=\"T_d959c_row6_col2\" class=\"data row6 col2\" >14.000000</td>\n",
       "      <td id=\"T_d959c_row6_col3\" class=\"data row6 col3\" >Uvaggio 2009 Vermentino (Lodi)</td>\n",
       "      <td id=\"T_d959c_row6_col4\" class=\"data row6 col4\" >Vermentino</td>\n",
       "    </tr>\n",
       "    <tr>\n",
       "      <th id=\"T_d959c_level0_row7\" class=\"row_heading level0 row7\" >43193</th>\n",
       "      <td id=\"T_d959c_row7_col0\" class=\"data row7 col0\" >US</td>\n",
       "      <td id=\"T_d959c_row7_col1\" class=\"data row7 col1\" >93</td>\n",
       "      <td id=\"T_d959c_row7_col2\" class=\"data row7 col2\" >14.000000</td>\n",
       "      <td id=\"T_d959c_row7_col3\" class=\"data row7 col3\" >Novy 2006 Oley Dessert Wine Viognier (Russian River Valley)</td>\n",
       "      <td id=\"T_d959c_row7_col4\" class=\"data row7 col4\" >Viognier</td>\n",
       "    </tr>\n",
       "    <tr>\n",
       "      <th id=\"T_d959c_level0_row8\" class=\"row_heading level0 row8\" >9609</th>\n",
       "      <td id=\"T_d959c_row8_col0\" class=\"data row8 col0\" >France</td>\n",
       "      <td id=\"T_d959c_row8_col1\" class=\"data row8 col1\" >93</td>\n",
       "      <td id=\"T_d959c_row8_col2\" class=\"data row8 col2\" >13.000000</td>\n",
       "      <td id=\"T_d959c_row8_col3\" class=\"data row8 col3\" >Château Vincens 2011 Prestige Malbec-Merlot (Cahors)</td>\n",
       "      <td id=\"T_d959c_row8_col4\" class=\"data row8 col4\" >Malbec-Merlot</td>\n",
       "    </tr>\n",
       "    <tr>\n",
       "      <th id=\"T_d959c_level0_row9\" class=\"row_heading level0 row9\" >59823</th>\n",
       "      <td id=\"T_d959c_row9_col0\" class=\"data row9 col0\" >US</td>\n",
       "      <td id=\"T_d959c_row9_col1\" class=\"data row9 col1\" >93</td>\n",
       "      <td id=\"T_d959c_row9_col2\" class=\"data row9 col2\" >14.000000</td>\n",
       "      <td id=\"T_d959c_row9_col3\" class=\"data row9 col3\" >Novy 2006 Oley Dessert Wine Viognier (Russian River Valley)</td>\n",
       "      <td id=\"T_d959c_row9_col4\" class=\"data row9 col4\" >Viognier</td>\n",
       "    </tr>\n",
       "  </tbody>\n",
       "</table>\n"
      ],
      "text/plain": [
       "<pandas.io.formats.style.Styler at 0x21fa4910>"
      ]
     },
     "execution_count": 36,
     "metadata": {},
     "output_type": "execute_result"
    }
   ],
   "source": [
    "#top 10 wine under $15\n",
    "under_15=df4.drop([\"description\",\"province\",\"winery\"],axis=1)\n",
    "under_15=under_15[under_15[\"price\"]<=15]\n",
    "under_15=under_15.sort_values(by=\"points\",ascending=False)[:10]\n",
    "under_15.style.background_gradient(cmap=\"PuBu\",high=0.5,subset=[\"price\"])"
   ]
  },
  {
   "cell_type": "code",
   "execution_count": 38,
   "id": "86829cfa",
   "metadata": {},
   "outputs": [
    {
     "data": {
      "text/html": [
       "<style type=\"text/css\">\n",
       "#T_9082f_row0_col2, #T_9082f_row2_col2 {\n",
       "  background-color: #63a2cb;\n",
       "  color: #f1f1f1;\n",
       "}\n",
       "#T_9082f_row1_col2, #T_9082f_row4_col2, #T_9082f_row8_col2 {\n",
       "  background-color: #2685bb;\n",
       "  color: #f1f1f1;\n",
       "}\n",
       "#T_9082f_row3_col2, #T_9082f_row7_col2, #T_9082f_row9_col2 {\n",
       "  background-color: #81aed2;\n",
       "  color: #f1f1f1;\n",
       "}\n",
       "#T_9082f_row5_col2 {\n",
       "  background-color: #fff7fb;\n",
       "  color: #000000;\n",
       "}\n",
       "#T_9082f_row6_col2 {\n",
       "  background-color: #4295c3;\n",
       "  color: #f1f1f1;\n",
       "}\n",
       "</style>\n",
       "<table id=\"T_9082f_\">\n",
       "  <thead>\n",
       "    <tr>\n",
       "      <th class=\"blank level0\" >&nbsp;</th>\n",
       "      <th class=\"col_heading level0 col0\" >country</th>\n",
       "      <th class=\"col_heading level0 col1\" >points</th>\n",
       "      <th class=\"col_heading level0 col2\" >price</th>\n",
       "      <th class=\"col_heading level0 col3\" >title</th>\n",
       "      <th class=\"col_heading level0 col4\" >variety</th>\n",
       "    </tr>\n",
       "  </thead>\n",
       "  <tbody>\n",
       "    <tr>\n",
       "      <th id=\"T_9082f_level0_row0\" class=\"row_heading level0 row0\" >54311</th>\n",
       "      <td id=\"T_9082f_row0_col0\" class=\"data row0 col0\" >Austria</td>\n",
       "      <td id=\"T_9082f_row0_col1\" class=\"data row0 col1\" >96</td>\n",
       "      <td id=\"T_9082f_row0_col2\" class=\"data row0 col2\" >28.000000</td>\n",
       "      <td id=\"T_9082f_row0_col3\" class=\"data row0 col3\" >Eichinger 2014 Gaisberg Reserve Riesling (Kamptal)</td>\n",
       "      <td id=\"T_9082f_row0_col4\" class=\"data row0 col4\" >Riesling</td>\n",
       "    </tr>\n",
       "    <tr>\n",
       "      <th id=\"T_9082f_level0_row1\" class=\"row_heading level0 row1\" >81902</th>\n",
       "      <td id=\"T_9082f_row1_col0\" class=\"data row1 col0\" >US</td>\n",
       "      <td id=\"T_9082f_row1_col1\" class=\"data row1 col1\" >96</td>\n",
       "      <td id=\"T_9082f_row1_col2\" class=\"data row1 col2\" >30.000000</td>\n",
       "      <td id=\"T_9082f_row1_col3\" class=\"data row1 col3\" >Efeste 2009 Lola Chardonnay (Columbia Valley (WA))</td>\n",
       "      <td id=\"T_9082f_row1_col4\" class=\"data row1 col4\" >Chardonnay</td>\n",
       "    </tr>\n",
       "    <tr>\n",
       "      <th id=\"T_9082f_level0_row2\" class=\"row_heading level0 row2\" >45992</th>\n",
       "      <td id=\"T_9082f_row2_col0\" class=\"data row2 col0\" >France</td>\n",
       "      <td id=\"T_9082f_row2_col1\" class=\"data row2 col1\" >96</td>\n",
       "      <td id=\"T_9082f_row2_col2\" class=\"data row2 col2\" >28.000000</td>\n",
       "      <td id=\"T_9082f_row2_col3\" class=\"data row2 col3\" >Château Filhot 2014  Sauternes</td>\n",
       "      <td id=\"T_9082f_row2_col4\" class=\"data row2 col4\" >Bordeaux-style White Blend</td>\n",
       "    </tr>\n",
       "    <tr>\n",
       "      <th id=\"T_9082f_level0_row3\" class=\"row_heading level0 row3\" >102489</th>\n",
       "      <td id=\"T_9082f_row3_col0\" class=\"data row3 col0\" >US</td>\n",
       "      <td id=\"T_9082f_row3_col1\" class=\"data row3 col1\" >96</td>\n",
       "      <td id=\"T_9082f_row3_col2\" class=\"data row3 col2\" >27.000000</td>\n",
       "      <td id=\"T_9082f_row3_col3\" class=\"data row3 col3\" >The Eyrie Vineyards 2014 Estate Chardonnay (Dundee Hills)</td>\n",
       "      <td id=\"T_9082f_row3_col4\" class=\"data row3 col4\" >Chardonnay</td>\n",
       "    </tr>\n",
       "    <tr>\n",
       "      <th id=\"T_9082f_level0_row4\" class=\"row_heading level0 row4\" >119658</th>\n",
       "      <td id=\"T_9082f_row4_col0\" class=\"data row4 col0\" >Spain</td>\n",
       "      <td id=\"T_9082f_row4_col1\" class=\"data row4 col1\" >96</td>\n",
       "      <td id=\"T_9082f_row4_col2\" class=\"data row4 col2\" >30.000000</td>\n",
       "      <td id=\"T_9082f_row4_col3\" class=\"data row4 col3\" >Alvear NV Solera 1927 Pedro Ximénez (Montilla-Moriles)</td>\n",
       "      <td id=\"T_9082f_row4_col4\" class=\"data row4 col4\" >Pedro Ximénez</td>\n",
       "    </tr>\n",
       "    <tr>\n",
       "      <th id=\"T_9082f_level0_row5\" class=\"row_heading level0 row5\" >101580</th>\n",
       "      <td id=\"T_9082f_row5_col0\" class=\"data row5 col0\" >US</td>\n",
       "      <td id=\"T_9082f_row5_col1\" class=\"data row5 col1\" >96</td>\n",
       "      <td id=\"T_9082f_row5_col2\" class=\"data row5 col2\" >20.000000</td>\n",
       "      <td id=\"T_9082f_row5_col3\" class=\"data row5 col3\" >Rulo 2007 Syrah (Columbia Valley (WA))</td>\n",
       "      <td id=\"T_9082f_row5_col4\" class=\"data row5 col4\" >Syrah</td>\n",
       "    </tr>\n",
       "    <tr>\n",
       "      <th id=\"T_9082f_level0_row6\" class=\"row_heading level0 row6\" >9901</th>\n",
       "      <td id=\"T_9082f_row6_col0\" class=\"data row6 col0\" >France</td>\n",
       "      <td id=\"T_9082f_row6_col1\" class=\"data row6 col1\" >96</td>\n",
       "      <td id=\"T_9082f_row6_col2\" class=\"data row6 col2\" >29.000000</td>\n",
       "      <td id=\"T_9082f_row6_col3\" class=\"data row6 col3\" >Domaines Schlumberger 2014 Saering Grand Cru Riesling (Alsace)</td>\n",
       "      <td id=\"T_9082f_row6_col4\" class=\"data row6 col4\" >Riesling</td>\n",
       "    </tr>\n",
       "    <tr>\n",
       "      <th id=\"T_9082f_level0_row7\" class=\"row_heading level0 row7\" >40309</th>\n",
       "      <td id=\"T_9082f_row7_col0\" class=\"data row7 col0\" >Italy</td>\n",
       "      <td id=\"T_9082f_row7_col1\" class=\"data row7 col1\" >96</td>\n",
       "      <td id=\"T_9082f_row7_col2\" class=\"data row7 col2\" >27.000000</td>\n",
       "      <td id=\"T_9082f_row7_col3\" class=\"data row7 col3\" >Isole e Olena 2010  Chianti Classico</td>\n",
       "      <td id=\"T_9082f_row7_col4\" class=\"data row7 col4\" >Red Blend</td>\n",
       "    </tr>\n",
       "    <tr>\n",
       "      <th id=\"T_9082f_level0_row8\" class=\"row_heading level0 row8\" >109845</th>\n",
       "      <td id=\"T_9082f_row8_col0\" class=\"data row8 col0\" >US</td>\n",
       "      <td id=\"T_9082f_row8_col1\" class=\"data row8 col1\" >96</td>\n",
       "      <td id=\"T_9082f_row8_col2\" class=\"data row8 col2\" >30.000000</td>\n",
       "      <td id=\"T_9082f_row8_col3\" class=\"data row8 col3\" >Sineann 2015 TFL Pinot Noir (Willamette Valley)</td>\n",
       "      <td id=\"T_9082f_row8_col4\" class=\"data row8 col4\" >Pinot Noir</td>\n",
       "    </tr>\n",
       "    <tr>\n",
       "      <th id=\"T_9082f_level0_row9\" class=\"row_heading level0 row9\" >54253</th>\n",
       "      <td id=\"T_9082f_row9_col0\" class=\"data row9 col0\" >US</td>\n",
       "      <td id=\"T_9082f_row9_col1\" class=\"data row9 col1\" >96</td>\n",
       "      <td id=\"T_9082f_row9_col2\" class=\"data row9 col2\" >27.000000</td>\n",
       "      <td id=\"T_9082f_row9_col3\" class=\"data row9 col3\" >Donkey & Goat 2012 Grenache Noir Grenache (El Dorado)</td>\n",
       "      <td id=\"T_9082f_row9_col4\" class=\"data row9 col4\" >Grenache</td>\n",
       "    </tr>\n",
       "  </tbody>\n",
       "</table>\n"
      ],
      "text/plain": [
       "<pandas.io.formats.style.Styler at 0x1d6d6358>"
      ]
     },
     "execution_count": 38,
     "metadata": {},
     "output_type": "execute_result"
    }
   ],
   "source": [
    "#top 10 wine between $15 and $30\n",
    "between_15_and_30=df4.drop([\"description\",\"province\",\"winery\"],axis=1)\n",
    "between_15_and_30=between_15_and_30.query(\"price>15 and price<=30\")\n",
    "between_15_and_30=between_15_and_30.sort_values(by=\"points\",ascending=False)[:10]\n",
    "between_15_and_30.style.background_gradient(cmap=\"PuBu\",high=0.5,subset=[\"price\"])"
   ]
  },
  {
   "cell_type": "code",
   "execution_count": 39,
   "id": "5b3f4487",
   "metadata": {},
   "outputs": [
    {
     "data": {
      "text/html": [
       "<style type=\"text/css\">\n",
       "#T_4a048_row0_col2 {\n",
       "  background-color: #9cb9d9;\n",
       "  color: #000000;\n",
       "}\n",
       "#T_4a048_row1_col2, #T_4a048_row2_col2, #T_4a048_row3_col2, #T_4a048_row6_col2, #T_4a048_row8_col2, #T_4a048_row9_col2 {\n",
       "  background-color: #2685bb;\n",
       "  color: #f1f1f1;\n",
       "}\n",
       "#T_4a048_row4_col2 {\n",
       "  background-color: #fff7fb;\n",
       "  color: #000000;\n",
       "}\n",
       "#T_4a048_row5_col2 {\n",
       "  background-color: #8bb2d4;\n",
       "  color: #000000;\n",
       "}\n",
       "#T_4a048_row7_col2 {\n",
       "  background-color: #d7d6e9;\n",
       "  color: #000000;\n",
       "}\n",
       "</style>\n",
       "<table id=\"T_4a048_\">\n",
       "  <thead>\n",
       "    <tr>\n",
       "      <th class=\"blank level0\" >&nbsp;</th>\n",
       "      <th class=\"col_heading level0 col0\" >country</th>\n",
       "      <th class=\"col_heading level0 col1\" >points</th>\n",
       "      <th class=\"col_heading level0 col2\" >price</th>\n",
       "      <th class=\"col_heading level0 col3\" >title</th>\n",
       "      <th class=\"col_heading level0 col4\" >variety</th>\n",
       "    </tr>\n",
       "  </thead>\n",
       "  <tbody>\n",
       "    <tr>\n",
       "      <th id=\"T_4a048_level0_row0\" class=\"row_heading level0 row0\" >118059</th>\n",
       "      <td id=\"T_4a048_row0_col0\" class=\"data row0 col0\" >US</td>\n",
       "      <td id=\"T_4a048_row0_col1\" class=\"data row0 col1\" >99</td>\n",
       "      <td id=\"T_4a048_row0_col2\" class=\"data row0 col2\" >44.000000</td>\n",
       "      <td id=\"T_4a048_row0_col3\" class=\"data row0 col3\" >Failla 2010 Estate Vineyard Chardonnay (Sonoma Coast)</td>\n",
       "      <td id=\"T_4a048_row0_col4\" class=\"data row0 col4\" >Chardonnay</td>\n",
       "    </tr>\n",
       "    <tr>\n",
       "      <th id=\"T_4a048_level0_row1\" class=\"row_heading level0 row1\" >1560</th>\n",
       "      <td id=\"T_4a048_row1_col0\" class=\"data row1 col0\" >US</td>\n",
       "      <td id=\"T_4a048_row1_col1\" class=\"data row1 col1\" >98</td>\n",
       "      <td id=\"T_4a048_row1_col2\" class=\"data row1 col2\" >50.000000</td>\n",
       "      <td id=\"T_4a048_row1_col3\" class=\"data row1 col3\" >Pirouette 2008 Red Wine Red (Columbia Valley (WA))</td>\n",
       "      <td id=\"T_4a048_row1_col4\" class=\"data row1 col4\" >Bordeaux-style Red Blend</td>\n",
       "    </tr>\n",
       "    <tr>\n",
       "      <th id=\"T_4a048_level0_row2\" class=\"row_heading level0 row2\" >47432</th>\n",
       "      <td id=\"T_4a048_row2_col0\" class=\"data row2 col0\" >US</td>\n",
       "      <td id=\"T_4a048_row2_col1\" class=\"data row2 col1\" >97</td>\n",
       "      <td id=\"T_4a048_row2_col2\" class=\"data row2 col2\" >50.000000</td>\n",
       "      <td id=\"T_4a048_row2_col3\" class=\"data row2 col3\" >Williams Selyem 2010 Allen Vineyard Chardonnay (Russian River Valley)</td>\n",
       "      <td id=\"T_4a048_row2_col4\" class=\"data row2 col4\" >Chardonnay</td>\n",
       "    </tr>\n",
       "    <tr>\n",
       "      <th id=\"T_4a048_level0_row3\" class=\"row_heading level0 row3\" >4504</th>\n",
       "      <td id=\"T_4a048_row3_col0\" class=\"data row3 col0\" >US</td>\n",
       "      <td id=\"T_4a048_row3_col1\" class=\"data row3 col1\" >97</td>\n",
       "      <td id=\"T_4a048_row3_col2\" class=\"data row3 col2\" >50.000000</td>\n",
       "      <td id=\"T_4a048_row3_col3\" class=\"data row3 col3\" >Limerick Lane 2013 Rocky Knoll Zinfandel (Russian River Valley)</td>\n",
       "      <td id=\"T_4a048_row3_col4\" class=\"data row3 col4\" >Zinfandel</td>\n",
       "    </tr>\n",
       "    <tr>\n",
       "      <th id=\"T_4a048_level0_row4\" class=\"row_heading level0 row4\" >114981</th>\n",
       "      <td id=\"T_4a048_row4_col0\" class=\"data row4 col0\" >US</td>\n",
       "      <td id=\"T_4a048_row4_col1\" class=\"data row4 col1\" >97</td>\n",
       "      <td id=\"T_4a048_row4_col2\" class=\"data row4 col2\" >35.000000</td>\n",
       "      <td id=\"T_4a048_row4_col3\" class=\"data row4 col3\" >Donkey & Goat 2010 Fenaughty Vineyard Syrah (El Dorado)</td>\n",
       "      <td id=\"T_4a048_row4_col4\" class=\"data row4 col4\" >Syrah</td>\n",
       "    </tr>\n",
       "    <tr>\n",
       "      <th id=\"T_4a048_level0_row5\" class=\"row_heading level0 row5\" >45986</th>\n",
       "      <td id=\"T_4a048_row5_col0\" class=\"data row5 col0\" >France</td>\n",
       "      <td id=\"T_4a048_row5_col1\" class=\"data row5 col1\" >97</td>\n",
       "      <td id=\"T_4a048_row5_col2\" class=\"data row5 col2\" >45.000000</td>\n",
       "      <td id=\"T_4a048_row5_col3\" class=\"data row5 col3\" >Château Coutet 2014  Barsac</td>\n",
       "      <td id=\"T_4a048_row5_col4\" class=\"data row5 col4\" >Bordeaux-style White Blend</td>\n",
       "    </tr>\n",
       "    <tr>\n",
       "      <th id=\"T_4a048_level0_row6\" class=\"row_heading level0 row6\" >125831</th>\n",
       "      <td id=\"T_4a048_row6_col0\" class=\"data row6 col0\" >US</td>\n",
       "      <td id=\"T_4a048_row6_col1\" class=\"data row6 col1\" >97</td>\n",
       "      <td id=\"T_4a048_row6_col2\" class=\"data row6 col2\" >50.000000</td>\n",
       "      <td id=\"T_4a048_row6_col3\" class=\"data row6 col3\" >Dutton-Goldfield 2010 Dutton Ranch Rued Vineyard Chardonnay (Green Valley)</td>\n",
       "      <td id=\"T_4a048_row6_col4\" class=\"data row6 col4\" >Chardonnay</td>\n",
       "    </tr>\n",
       "    <tr>\n",
       "      <th id=\"T_4a048_level0_row7\" class=\"row_heading level0 row7\" >16524</th>\n",
       "      <td id=\"T_4a048_row7_col0\" class=\"data row7 col0\" >Portugal</td>\n",
       "      <td id=\"T_4a048_row7_col1\" class=\"data row7 col1\" >97</td>\n",
       "      <td id=\"T_4a048_row7_col2\" class=\"data row7 col2\" >40.000000</td>\n",
       "      <td id=\"T_4a048_row7_col3\" class=\"data row7 col3\" >Taylor Fladgate NV 325 Anniversary  (Port)</td>\n",
       "      <td id=\"T_4a048_row7_col4\" class=\"data row7 col4\" >Port</td>\n",
       "    </tr>\n",
       "    <tr>\n",
       "      <th id=\"T_4a048_level0_row8\" class=\"row_heading level0 row8\" >128268</th>\n",
       "      <td id=\"T_4a048_row8_col0\" class=\"data row8 col0\" >US</td>\n",
       "      <td id=\"T_4a048_row8_col1\" class=\"data row8 col1\" >97</td>\n",
       "      <td id=\"T_4a048_row8_col2\" class=\"data row8 col2\" >50.000000</td>\n",
       "      <td id=\"T_4a048_row8_col3\" class=\"data row8 col3\" >Trefethen 2005 Estate Cabernet Sauvignon (Oak Knoll District)</td>\n",
       "      <td id=\"T_4a048_row8_col4\" class=\"data row8 col4\" >Cabernet Sauvignon</td>\n",
       "    </tr>\n",
       "    <tr>\n",
       "      <th id=\"T_4a048_level0_row9\" class=\"row_heading level0 row9\" >89730</th>\n",
       "      <td id=\"T_4a048_row9_col0\" class=\"data row9 col0\" >France</td>\n",
       "      <td id=\"T_4a048_row9_col1\" class=\"data row9 col1\" >97</td>\n",
       "      <td id=\"T_4a048_row9_col2\" class=\"data row9 col2\" >50.000000</td>\n",
       "      <td id=\"T_4a048_row9_col3\" class=\"data row9 col3\" >René Muré 2015 Clos Saint Landelin Vorbourg Grand Cru Riesling (Alsace)</td>\n",
       "      <td id=\"T_4a048_row9_col4\" class=\"data row9 col4\" >Riesling</td>\n",
       "    </tr>\n",
       "  </tbody>\n",
       "</table>\n"
      ],
      "text/plain": [
       "<pandas.io.formats.style.Styler at 0x21f85f40>"
      ]
     },
     "execution_count": 39,
     "metadata": {},
     "output_type": "execute_result"
    }
   ],
   "source": [
    "#top 10 wine between $30 and $50\n",
    "between_30_and_50=df4.drop([\"description\",\"province\",\"winery\"],axis=1)\n",
    "between_30_and_50=between_30_and_50.query(\"price>30 and price<=50\")\n",
    "between_30_and_50=between_30_and_50.sort_values(by=\"points\",ascending=False)[:10]\n",
    "between_30_and_50.style.background_gradient(cmap=\"PuBu\",high=0.5,subset=[\"price\"])"
   ]
  },
  {
   "cell_type": "code",
   "execution_count": 40,
   "id": "7a5f051e",
   "metadata": {},
   "outputs": [
    {
     "data": {
      "text/html": [
       "<style type=\"text/css\">\n",
       "#T_ac8b5_row0_col2, #T_ac8b5_row3_col2 {\n",
       "  background-color: #fff7fb;\n",
       "  color: #000000;\n",
       "}\n",
       "#T_ac8b5_row1_col2, #T_ac8b5_row7_col2 {\n",
       "  background-color: #2685bb;\n",
       "  color: #f1f1f1;\n",
       "}\n",
       "#T_ac8b5_row2_col2 {\n",
       "  background-color: #f3edf5;\n",
       "  color: #000000;\n",
       "}\n",
       "#T_ac8b5_row4_col2, #T_ac8b5_row9_col2 {\n",
       "  background-color: #e1dfed;\n",
       "  color: #000000;\n",
       "}\n",
       "#T_ac8b5_row5_col2 {\n",
       "  background-color: #d0d1e6;\n",
       "  color: #000000;\n",
       "}\n",
       "#T_ac8b5_row6_col2 {\n",
       "  background-color: #d7d6e9;\n",
       "  color: #000000;\n",
       "}\n",
       "#T_ac8b5_row8_col2 {\n",
       "  background-color: #f2ecf5;\n",
       "  color: #000000;\n",
       "}\n",
       "</style>\n",
       "<table id=\"T_ac8b5_\">\n",
       "  <thead>\n",
       "    <tr>\n",
       "      <th class=\"blank level0\" >&nbsp;</th>\n",
       "      <th class=\"col_heading level0 col0\" >country</th>\n",
       "      <th class=\"col_heading level0 col1\" >points</th>\n",
       "      <th class=\"col_heading level0 col2\" >price</th>\n",
       "      <th class=\"col_heading level0 col3\" >title</th>\n",
       "      <th class=\"col_heading level0 col4\" >variety</th>\n",
       "    </tr>\n",
       "  </thead>\n",
       "  <tbody>\n",
       "    <tr>\n",
       "      <th id=\"T_ac8b5_level0_row0\" class=\"row_heading level0 row0\" >113929</th>\n",
       "      <td id=\"T_ac8b5_row0_col0\" class=\"data row0 col0\" >US</td>\n",
       "      <td id=\"T_ac8b5_row0_col1\" class=\"data row0 col1\" >100</td>\n",
       "      <td id=\"T_ac8b5_row0_col2\" class=\"data row0 col2\" >80.000000</td>\n",
       "      <td id=\"T_ac8b5_row0_col3\" class=\"data row0 col3\" >Charles Smith 2006 Royal City Syrah (Columbia Valley (WA))</td>\n",
       "      <td id=\"T_ac8b5_row0_col4\" class=\"data row0 col4\" >Syrah</td>\n",
       "    </tr>\n",
       "    <tr>\n",
       "      <th id=\"T_ac8b5_level0_row1\" class=\"row_heading level0 row1\" >111755</th>\n",
       "      <td id=\"T_ac8b5_row1_col0\" class=\"data row1 col0\" >France</td>\n",
       "      <td id=\"T_ac8b5_row1_col1\" class=\"data row1 col1\" >100</td>\n",
       "      <td id=\"T_ac8b5_row1_col2\" class=\"data row1 col2\" >1500.000000</td>\n",
       "      <td id=\"T_ac8b5_row1_col3\" class=\"data row1 col3\" >Château Cheval Blanc 2010  Saint-Émilion</td>\n",
       "      <td id=\"T_ac8b5_row1_col4\" class=\"data row1 col4\" >Bordeaux-style Red Blend</td>\n",
       "    </tr>\n",
       "    <tr>\n",
       "      <th id=\"T_ac8b5_level0_row2\" class=\"row_heading level0 row2\" >89728</th>\n",
       "      <td id=\"T_ac8b5_row2_col0\" class=\"data row2 col0\" >France</td>\n",
       "      <td id=\"T_ac8b5_row2_col1\" class=\"data row2 col1\" >100</td>\n",
       "      <td id=\"T_ac8b5_row2_col2\" class=\"data row2 col2\" >250.000000</td>\n",
       "      <td id=\"T_ac8b5_row2_col3\" class=\"data row2 col3\" >Louis Roederer 2008 Cristal Vintage Brut  (Champagne)</td>\n",
       "      <td id=\"T_ac8b5_row2_col4\" class=\"data row2 col4\" >Champagne Blend</td>\n",
       "    </tr>\n",
       "    <tr>\n",
       "      <th id=\"T_ac8b5_level0_row3\" class=\"row_heading level0 row3\" >123545</th>\n",
       "      <td id=\"T_ac8b5_row3_col0\" class=\"data row3 col0\" >US</td>\n",
       "      <td id=\"T_ac8b5_row3_col1\" class=\"data row3 col1\" >100</td>\n",
       "      <td id=\"T_ac8b5_row3_col2\" class=\"data row3 col2\" >80.000000</td>\n",
       "      <td id=\"T_ac8b5_row3_col3\" class=\"data row3 col3\" >Cayuse 2008 Bionic Frog Syrah (Walla Walla Valley (WA))</td>\n",
       "      <td id=\"T_ac8b5_row3_col4\" class=\"data row3 col4\" >Syrah</td>\n",
       "    </tr>\n",
       "    <tr>\n",
       "      <th id=\"T_ac8b5_level0_row4\" class=\"row_heading level0 row4\" >118058</th>\n",
       "      <td id=\"T_ac8b5_row4_col0\" class=\"data row4 col0\" >US</td>\n",
       "      <td id=\"T_ac8b5_row4_col1\" class=\"data row4 col1\" >100</td>\n",
       "      <td id=\"T_ac8b5_row4_col2\" class=\"data row4 col2\" >450.000000</td>\n",
       "      <td id=\"T_ac8b5_row4_col3\" class=\"data row4 col3\" >Verité 2007 La Muse Red (Sonoma County)</td>\n",
       "      <td id=\"T_ac8b5_row4_col4\" class=\"data row4 col4\" >Bordeaux-style Red Blend</td>\n",
       "    </tr>\n",
       "    <tr>\n",
       "      <th id=\"T_ac8b5_level0_row5\" class=\"row_heading level0 row5\" >89729</th>\n",
       "      <td id=\"T_ac8b5_row5_col0\" class=\"data row5 col0\" >France</td>\n",
       "      <td id=\"T_ac8b5_row5_col1\" class=\"data row5 col1\" >100</td>\n",
       "      <td id=\"T_ac8b5_row5_col2\" class=\"data row5 col2\" >617.000000</td>\n",
       "      <td id=\"T_ac8b5_row5_col3\" class=\"data row5 col3\" >Salon 2006 Le Mesnil Blanc de Blancs Brut Chardonnay (Champagne)</td>\n",
       "      <td id=\"T_ac8b5_row5_col4\" class=\"data row5 col4\" >Chardonnay</td>\n",
       "    </tr>\n",
       "    <tr>\n",
       "      <th id=\"T_ac8b5_level0_row6\" class=\"row_heading level0 row6\" >45781</th>\n",
       "      <td id=\"T_ac8b5_row6_col0\" class=\"data row6 col0\" >Italy</td>\n",
       "      <td id=\"T_ac8b5_row6_col1\" class=\"data row6 col1\" >100</td>\n",
       "      <td id=\"T_ac8b5_row6_col2\" class=\"data row6 col2\" >550.000000</td>\n",
       "      <td id=\"T_ac8b5_row6_col3\" class=\"data row6 col3\" >Biondi Santi 2010 Riserva  (Brunello di Montalcino)</td>\n",
       "      <td id=\"T_ac8b5_row6_col4\" class=\"data row6 col4\" >Sangiovese</td>\n",
       "    </tr>\n",
       "    <tr>\n",
       "      <th id=\"T_ac8b5_level0_row7\" class=\"row_heading level0 row7\" >111753</th>\n",
       "      <td id=\"T_ac8b5_row7_col0\" class=\"data row7 col0\" >France</td>\n",
       "      <td id=\"T_ac8b5_row7_col1\" class=\"data row7 col1\" >100</td>\n",
       "      <td id=\"T_ac8b5_row7_col2\" class=\"data row7 col2\" >1500.000000</td>\n",
       "      <td id=\"T_ac8b5_row7_col3\" class=\"data row7 col3\" >Château Lafite Rothschild 2010  Pauillac</td>\n",
       "      <td id=\"T_ac8b5_row7_col4\" class=\"data row7 col4\" >Bordeaux-style Red Blend</td>\n",
       "    </tr>\n",
       "    <tr>\n",
       "      <th id=\"T_ac8b5_level0_row8\" class=\"row_heading level0 row8\" >111754</th>\n",
       "      <td id=\"T_ac8b5_row8_col0\" class=\"data row8 col0\" >Italy</td>\n",
       "      <td id=\"T_ac8b5_row8_col1\" class=\"data row8 col1\" >100</td>\n",
       "      <td id=\"T_ac8b5_row8_col2\" class=\"data row8 col2\" >270.000000</td>\n",
       "      <td id=\"T_ac8b5_row8_col3\" class=\"data row8 col3\" >Casanova di Neri 2007 Cerretalto  (Brunello di Montalcino)</td>\n",
       "      <td id=\"T_ac8b5_row8_col4\" class=\"data row8 col4\" >Sangiovese Grosso</td>\n",
       "    </tr>\n",
       "    <tr>\n",
       "      <th id=\"T_ac8b5_level0_row9\" class=\"row_heading level0 row9\" >42197</th>\n",
       "      <td id=\"T_ac8b5_row9_col0\" class=\"data row9 col0\" >Portugal</td>\n",
       "      <td id=\"T_ac8b5_row9_col1\" class=\"data row9 col1\" >100</td>\n",
       "      <td id=\"T_ac8b5_row9_col2\" class=\"data row9 col2\" >450.000000</td>\n",
       "      <td id=\"T_ac8b5_row9_col3\" class=\"data row9 col3\" >Casa Ferreirinha 2008 Barca-Velha Red (Douro)</td>\n",
       "      <td id=\"T_ac8b5_row9_col4\" class=\"data row9 col4\" >Portuguese Red</td>\n",
       "    </tr>\n",
       "  </tbody>\n",
       "</table>\n"
      ],
      "text/plain": [
       "<pandas.io.formats.style.Styler at 0x1ed11bb0>"
      ]
     },
     "execution_count": 40,
     "metadata": {},
     "output_type": "execute_result"
    }
   ],
   "source": [
    "#top 10 wine above $50\n",
    "above_50=df4.drop([\"description\",\"province\",\"winery\"],axis=1)\n",
    "above_50=above_50.query(\"price>50\")\n",
    "above_50=above_50.sort_values(by=\"points\",ascending=False)[:10]\n",
    "above_50.style.background_gradient(cmap=\"PuBu\",high=0.5,subset=[\"price\"])"
   ]
  }
 ],
 "metadata": {
  "kernelspec": {
   "display_name": "Python 3 (ipykernel)",
   "language": "python",
   "name": "python3"
  },
  "language_info": {
   "codemirror_mode": {
    "name": "ipython",
    "version": 3
   },
   "file_extension": ".py",
   "mimetype": "text/x-python",
   "name": "python",
   "nbconvert_exporter": "python",
   "pygments_lexer": "ipython3",
   "version": "3.8.1"
  }
 },
 "nbformat": 4,
 "nbformat_minor": 5
}
